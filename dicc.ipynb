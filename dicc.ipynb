{
  "nbformat": 4,
  "nbformat_minor": 0,
  "metadata": {
    "colab": {
      "name": "Untitled11.ipynb",
      "provenance": [],
      "authorship_tag": "ABX9TyPZnQHgyoWFUTuwjjZa8jMT",
      "include_colab_link": true
    },
    "kernelspec": {
      "name": "python3",
      "display_name": "Python 3"
    }
  },
  "cells": [
    {
      "cell_type": "markdown",
      "metadata": {
        "id": "view-in-github",
        "colab_type": "text"
      },
      "source": [
        "<a href=\"https://colab.research.google.com/github/elpinchepastel/Python/blob/master/dicc.ipynb\" target=\"_parent\"><img src=\"https://colab.research.google.com/assets/colab-badge.svg\" alt=\"Open In Colab\"/></a>"
      ]
    },
    {
      "cell_type": "code",
      "metadata": {
        "id": "gaREz-roqO9j"
      },
      "source": [
        "x = str.split('hi:hola,my:mi,name:nombre,juan:juan', ',')"
      ],
      "execution_count": null,
      "outputs": []
    },
    {
      "cell_type": "code",
      "metadata": {
        "colab": {
          "base_uri": "https://localhost:8080/"
        },
        "id": "TRCeLvmcqPcJ",
        "outputId": "3c60938c-4b04-47f6-af7c-eb648f5cddc0"
      },
      "source": [
        "print(x)"
      ],
      "execution_count": null,
      "outputs": [
        {
          "output_type": "stream",
          "text": [
            "['hi:hola', 'my:mi', 'name:nombre', 'juan:juan']\n"
          ],
          "name": "stdout"
        }
      ]
    },
    {
      "cell_type": "code",
      "metadata": {
        "colab": {
          "base_uri": "https://localhost:8080/"
        },
        "id": "xw5ZO6tdqYRG",
        "outputId": "27ce38d3-6ebe-43c1-c425-4043aed6b9fc"
      },
      "source": [
        "print(type(x))\r\n",
        "d = {}"
      ],
      "execution_count": null,
      "outputs": [
        {
          "output_type": "stream",
          "text": [
            "<class 'list'>\n"
          ],
          "name": "stdout"
        }
      ]
    },
    {
      "cell_type": "code",
      "metadata": {
        "id": "l29toMvTqhhL"
      },
      "source": [
        "i = 0\r\n",
        "for char in x:\r\n",
        "    w = str(x[i])\r\n",
        "    y = str.split(x[i], ':')\r\n",
        "    d[y[0]]=y[1]\r\n",
        "    i=i+1"
      ],
      "execution_count": null,
      "outputs": []
    },
    {
      "cell_type": "code",
      "metadata": {
        "colab": {
          "base_uri": "https://localhost:8080/"
        },
        "id": "3qdrwWD6zbam",
        "outputId": "ad4d538f-48a0-49f3-80aa-daf95c21c36c"
      },
      "source": [
        "print(type(d))"
      ],
      "execution_count": null,
      "outputs": [
        {
          "output_type": "stream",
          "text": [
            "<class 'dict'>\n"
          ],
          "name": "stdout"
        }
      ]
    },
    {
      "cell_type": "code",
      "metadata": {
        "colab": {
          "base_uri": "https://localhost:8080/"
        },
        "id": "6UzFOf3_zgCD",
        "outputId": "37fd0060-a7c6-4413-8d8d-ae7e8d877462"
      },
      "source": [
        "print(d)"
      ],
      "execution_count": null,
      "outputs": [
        {
          "output_type": "stream",
          "text": [
            "{'hi': 'hola', 'my': 'mi', 'name': 'nombre', 'juan': 'juan'}\n"
          ],
          "name": "stdout"
        }
      ]
    },
    {
      "cell_type": "code",
      "metadata": {
        "id": "47j-fKAuztL1"
      },
      "source": [
        "o = str.split('hi juan', ' ')"
      ],
      "execution_count": null,
      "outputs": []
    },
    {
      "cell_type": "code",
      "metadata": {
        "colab": {
          "base_uri": "https://localhost:8080/"
        },
        "id": "ntjmZW4k3su-",
        "outputId": "ce2b4167-d9f3-407f-c72c-2965468927ba"
      },
      "source": [
        "print(o)"
      ],
      "execution_count": null,
      "outputs": [
        {
          "output_type": "stream",
          "text": [
            "['hi', 'juan']\n"
          ],
          "name": "stdout"
        }
      ]
    },
    {
      "cell_type": "code",
      "metadata": {
        "colab": {
          "base_uri": "https://localhost:8080/",
          "height": 35
        },
        "id": "AVO1wHuG3tVb",
        "outputId": "daf9f2d5-75f7-4061-ed27-5b65d4729317"
      },
      "source": [
        "i = 0\r\n",
        "j = 0\r\n",
        "lista = [ ]\r\n",
        "for char in o:\r\n",
        "  x = d.get(o[i])\r\n",
        "  lista.append(x)\r\n",
        "  lista.append(\" \")\r\n",
        "  i=i+1\r\n",
        "lista.pop() "
      ],
      "execution_count": null,
      "outputs": [
        {
          "output_type": "execute_result",
          "data": {
            "application/vnd.google.colaboratory.intrinsic+json": {
              "type": "string"
            },
            "text/plain": [
              "' '"
            ]
          },
          "metadata": {
            "tags": []
          },
          "execution_count": 137
        }
      ]
    },
    {
      "cell_type": "code",
      "metadata": {
        "colab": {
          "base_uri": "https://localhost:8080/",
          "height": 158
        },
        "id": "xq4xxGn08sdr",
        "outputId": "01ac6bd3-91d2-4d50-9306-e43282c7bb16"
      },
      "source": [
        "print(lista)"
      ],
      "execution_count": null,
      "outputs": [
        {
          "output_type": "error",
          "ename": "AttributeError",
          "evalue": "ignored",
          "traceback": [
            "\u001b[0;31m---------------------------------------------------------------------------\u001b[0m",
            "\u001b[0;31mAttributeError\u001b[0m                            Traceback (most recent call last)",
            "\u001b[0;32m<ipython-input-139-18b2f944e226>\u001b[0m in \u001b[0;36m<module>\u001b[0;34m()\u001b[0m\n\u001b[0;32m----> 1\u001b[0;31m \u001b[0mprint\u001b[0m\u001b[0;34m(\u001b[0m\u001b[0mstr\u001b[0m\u001b[0;34m.\u001b[0m\u001b[0mlista\u001b[0m\u001b[0;34m)\u001b[0m\u001b[0;34m\u001b[0m\u001b[0;34m\u001b[0m\u001b[0m\n\u001b[0m",
            "\u001b[0;31mAttributeError\u001b[0m: type object 'str' has no attribute 'lista'"
          ]
        }
      ]
    },
    {
      "cell_type": "code",
      "metadata": {
        "colab": {
          "base_uri": "https://localhost:8080/"
        },
        "id": "1Wd-W1jj9S22",
        "outputId": "5572da30-0f26-4e98-cfcb-4db2a61b068c"
      },
      "source": [
        "i=0\r\n",
        "for char in lista:\r\n",
        "  print(lista[i], end=\"\")\r\n",
        "  i=i+1"
      ],
      "execution_count": null,
      "outputs": [
        {
          "output_type": "stream",
          "text": [
            "hola juan"
          ],
          "name": "stdout"
        }
      ]
    },
    {
      "cell_type": "code",
      "metadata": {
        "id": "Hk3hrqTt9990"
      },
      "source": [
        ""
      ],
      "execution_count": null,
      "outputs": []
    }
  ]
}